{
 "cells": [
  {
   "cell_type": "code",
   "execution_count": 1,
   "id": "e03ac2b3",
   "metadata": {
    "colab": {
     "base_uri": "https://localhost:8080/"
    },
    "id": "e03ac2b3",
    "outputId": "ac6c3818-a9bb-4178-d17e-aa837da0c2e2"
   },
   "outputs": [
    {
     "name": "stdout",
     "output_type": "stream",
     "text": [
      "[0 0 0 0 0 0 0] is even\n",
      "[0 0 0 0 0 0 1] is odd\n",
      "[0 0 0 0 0 1 0] is even\n",
      "[0 0 0 0 0 1 1] is odd\n",
      "[0 0 0 0 1 0 0] is even\n",
      "[0 0 0 0 1 0 1] is odd\n",
      "[0 0 0 0 1 1 0] is even\n",
      "[0 0 0 0 1 1 1] is odd\n",
      "[0 0 0 1 0 0 0] is even\n",
      "[0 0 0 1 0 0 1] is odd\n"
     ]
    }
   ],
   "source": [
    "import numpy as np\n",
    "\n",
    "# Define the perceptron class\n",
    "class Perceptron:\n",
    "\tdef __init__(self, input_size=7, lr=0.1):\n",
    "\t\tself.W = np.zeros(input_size + 1)\n",
    "\t\tself.lr = lr\n",
    "\n",
    "\tdef activation_fn(self, x):\n",
    "\t\treturn 1 if x >= 0 else 0\n",
    "\n",
    "\tdef predict(self, x):\n",
    "\t\tx = np.insert(x, 0, 1)\n",
    "\t\tz = self.W.T.dot(x)\n",
    "\t\ta = self.activation_fn(z)\n",
    "\t\treturn a\n",
    "\n",
    "\tdef train(self, X, Y, epochs):\n",
    "\t\tfor _ in range(epochs):\n",
    "\t\t\tfor i in range(Y.shape[0]):\n",
    "\t\t\t\tx = X[i]\n",
    "\t\t\t\ty = self.predict(x)\n",
    "\t\t\t\te = Y[i] - y\n",
    "\t\t\t\tself.W = self.W + self.lr * e * np.insert(x, 0, 1)\n",
    "\n",
    "# Define the input data and labels\n",
    "X = np.array([\n",
    "[0,0,0,0,0,0,0], # 0\n",
    "[0,0,0,0,0,0,1], # 1\n",
    "[0,0,0,0,0,1,0], # 2\n",
    "[0,0,0,0,0,1,1], # 3\n",
    "[0,0,0,0,1,0,0], # 4\n",
    "[0,0,0,0,1,0,1], # 5\n",
    "[0,0,0,0,1,1,0], # 6\n",
    "[0,0,0,0,1,1,1], # 7\n",
    "[0,0,0,1,0,0,0], # 8\n",
    "[0,0,0,1,0,0,1], # 9\n",
    "\n",
    "])\n",
    "\n",
    "Y = np.array([0, 1, 0, 1, 0, 1, 0, 1, 0, 1])\n",
    "\n",
    "# Create the perceptron and train it\n",
    "perceptron = Perceptron()\n",
    "perceptron.train(X, Y, epochs=100)\n",
    "\n",
    "# Test the perceptron on some input data\n",
    "test_X = np.array([\n",
    "[0,0,0,0,0,0,0], # 0\n",
    "[0,0,0,0,0,0,1], # 1\n",
    "[0,0,0,0,0,1,0], # 2\n",
    "[0,0,0,0,0,1,1], # 3\n",
    "[0,0,0,0,1,0,0], # 4\n",
    "[0,0,0,0,1,0,1], # 5\n",
    "[0,0,0,0,1,1,0], # 6\n",
    "[0,0,0,0,1,1,1], # 7\n",
    "[0,0,0,1,0,0,0], # 8\n",
    "[0,0,0,1,0,0,1], # 9\n",
    "])\n",
    "\n",
    "for i in range(test_X.shape[0]):\n",
    "\tx = test_X[i]\n",
    "\ty = perceptron.predict(x)\n",
    "\tprint(f'{x} is {\"even\" if y == 0 else \"odd\"}')"
   ]
  },
  {
   "cell_type": "code",
   "execution_count": null,
   "id": "8ca06962",
   "metadata": {},
   "outputs": [],
   "source": []
  }
 ],
 "metadata": {
  "colab": {
   "provenance": []
  },
  "kernelspec": {
   "display_name": "Python 3 (ipykernel)",
   "language": "python",
   "name": "python3"
  },
  "language_info": {
   "codemirror_mode": {
    "name": "ipython",
    "version": 3
   },
   "file_extension": ".py",
   "mimetype": "text/x-python",
   "name": "python",
   "nbconvert_exporter": "python",
   "pygments_lexer": "ipython3",
   "version": "3.11.5"
  }
 },
 "nbformat": 4,
 "nbformat_minor": 5
}
