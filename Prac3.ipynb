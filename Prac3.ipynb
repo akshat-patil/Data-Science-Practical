{
 "cells": [
  {
   "cell_type": "code",
   "execution_count": 1,
   "id": "8eddb2c0",
   "metadata": {},
   "outputs": [],
   "source": [
    "#Write python program to demonstrate Perceptron NN to recognize even and odd numbers. Given numbers are in ASCII from 0 to 1"
   ]
  },
  {
   "cell_type": "code",
   "execution_count": 18,
   "id": "152fd681",
   "metadata": {},
   "outputs": [
    {
     "name": "stdout",
     "output_type": "stream",
     "text": [
      "1 is odd\n",
      "2 is even\n",
      "3 is odd\n",
      "4 is even\n",
      "5 is odd\n",
      "6 is even\n",
      "7 is odd\n",
      "8 is even\n",
      "9 is odd\n",
      "10 is even\n"
     ]
    }
   ],
   "source": [
    "import numpy as np\n",
    "\n",
    "class Perceptron:\n",
    "    \n",
    "    def __init__(self, input_size=8, lr=0.1):\n",
    "        self.W = np.zeros(input_size + 1)  \n",
    "        self.lr = lr\n",
    "        \n",
    "    def activate(self, x):\n",
    "        return 1 if x >= 0 else 0\n",
    "        \n",
    "    def predict(self, x):\n",
    "        x = np.insert(x, 0, 1) \n",
    "        z = self.W.T.dot(x)\n",
    "        a = self.activate(z)\n",
    "        return a\n",
    "    \n",
    "    def train(self, X, Y, epochs):\n",
    "        for _ in range(epochs):\n",
    "            for i in range(Y.shape[0]):\n",
    "                x = X[i]\n",
    "                y = self.predict(x)\n",
    "                e = Y[i] - y\n",
    "                self.W = self.W + self.lr * e * np.insert(x, 0, 1)\n",
    "\n",
    "\n",
    "X = np.array([\n",
    "    [0, 0, 0, 0, 0, 0, 0, 1],  # 1\n",
    "    [0, 0, 0, 0, 0, 0, 1, 0],  # 2\n",
    "    [0, 0, 0, 0, 0, 0, 1, 1],  # 3\n",
    "    [0, 0, 0, 0, 0, 1, 0, 0],  # 4\n",
    "    [0, 0, 0, 0, 0, 1, 0, 1],  # 5\n",
    "    [0, 0, 0, 0, 0, 1, 1, 0],  # 6\n",
    "    [0, 0, 0, 0, 0, 1, 1, 1],  # 7\n",
    "    [0, 0, 0, 0, 1, 0, 0, 0],  # 8\n",
    "    [0, 0, 0, 0, 1, 0, 0, 1],  # 9\n",
    "    [0, 0, 0, 0, 1, 0, 1, 0],  # 10\n",
    "])\n",
    "\n",
    "Y = np.array([1, 0, 1, 0, 1, 0, 1, 0, 1, 0])\n",
    "\n",
    "\n",
    "perceptron = Perceptron()\n",
    "perceptron.train(X, Y, epochs=100)\n",
    "\n",
    "for i in range(1, 11):\n",
    "    x = np.binary_repr(i, width=8)  \n",
    "    x = np.array(list(map(int, x)))  \n",
    "    y = perceptron.predict(x)\n",
    "    print(f\"{i} is {'even' if y == 0 else 'odd'}\")\n"
   ]
  },
  {
   "cell_type": "code",
   "execution_count": null,
   "id": "a3d86e27",
   "metadata": {},
   "outputs": [],
   "source": []
  },
  {
   "cell_type": "code",
   "execution_count": null,
   "id": "f470cbfc",
   "metadata": {},
   "outputs": [],
   "source": []
  },
  {
   "cell_type": "code",
   "execution_count": 19,
   "id": "8c53a109",
   "metadata": {},
   "outputs": [
    {
     "data": {
      "text/plain": [
       "\"\\nPerceptron Class Definition: The Perceptron class is defined, which represents a simple perceptron neural network.\\n\\nIt has three main methods:\\n__init__: This is the constructor method that initializes the perceptron with the given input size and learning rate. The weights (self.W) are initialized as an array of zeros with a length of input_size + 1 to include the bias term.\\n\\nactivate: This method defines the activation function. It returns 1 if the input is greater than or equal to 0, otherwise, it returns 0.\\n\\npredict: This method takes an input x, inserts a bias term at the beginning, computes the weighted sum of inputs and weights, passes it through the activation function, and returns the predicted output.\\n\\ntrain: This method trains the perceptron using the given input-output pairs (X and Y) for a certain number of epochs. It iteratively updates the weights based on the prediction error.\\n\\nTraining Data Preparation:\\nThe training input data X consists of binary representations of numbers. Each row in X represents a binary number.\\nThe corresponding labels Y indicate whether the number represented by each row in X is even or odd. 0 represents even, and 10 represents odd. This is a bit unconventional; usually, we'd use 0 for even and 1 for odd.\\n\\nPerceptron Initialization and Training:\\nAn instance of the Perceptron class is created.\\nThe train method of the Perceptron instance is called with the training data X and Y, and the number of epochs to train for (100 in this case).\\n\\nTesting:\\nTest data test_X is prepared, similar to the training data.\\nFor each row in the test data, the predict method of the perceptron is called to make predictions.\\nThe predictions are printed along with the input, indicating whether each number is predicted to be even or odd.\\n\\n\""
      ]
     },
     "execution_count": 19,
     "metadata": {},
     "output_type": "execute_result"
    }
   ],
   "source": [
    "'''\n",
    "Perceptron Class Definition: The Perceptron class is defined, which represents a simple perceptron neural network.\n",
    "\n",
    "It has three main methods:\n",
    "__init__: This is the constructor method that initializes the perceptron with the given input size and learning rate. The weights (self.W) are initialized as an array of zeros with a length of input_size + 1 to include the bias term.\n",
    "\n",
    "activate: This method defines the activation function. It returns 1 if the input is greater than or equal to 0, otherwise, it returns 0.\n",
    "\n",
    "predict: This method takes an input x, inserts a bias term at the beginning, computes the weighted sum of inputs and weights, passes it through the activation function, and returns the predicted output.\n",
    "\n",
    "train: This method trains the perceptron using the given input-output pairs (X and Y) for a certain number of epochs. It iteratively updates the weights based on the prediction error.\n",
    "\n",
    "Training Data Preparation:\n",
    "The training input data X consists of binary representations of numbers. Each row in X represents a binary number.\n",
    "The corresponding labels Y indicate whether the number represented by each row in X is even or odd. 0 represents even, and 10 represents odd. This is a bit unconventional; usually, we'd use 0 for even and 1 for odd.\n",
    "\n",
    "Perceptron Initialization and Training:\n",
    "An instance of the Perceptron class is created.\n",
    "The train method of the Perceptron instance is called with the training data X and Y, and the number of epochs to train for (100 in this case).\n",
    "\n",
    "Testing:\n",
    "Test data test_X is prepared, similar to the training data.\n",
    "For each row in the test data, the predict method of the perceptron is called to make predictions.\n",
    "The predictions are printed along with the input, indicating whether each number is predicted to be even or odd.\n",
    "\n",
    "'''"
   ]
  },
  {
   "cell_type": "code",
   "execution_count": null,
   "id": "62fcebfc",
   "metadata": {},
   "outputs": [],
   "source": []
  }
 ],
 "metadata": {
  "kernelspec": {
   "display_name": "Python 3 (ipykernel)",
   "language": "python",
   "name": "python3"
  },
  "language_info": {
   "codemirror_mode": {
    "name": "ipython",
    "version": 3
   },
   "file_extension": ".py",
   "mimetype": "text/x-python",
   "name": "python",
   "nbconvert_exporter": "python",
   "pygments_lexer": "ipython3",
   "version": "3.10.9"
  }
 },
 "nbformat": 4,
 "nbformat_minor": 5
}
